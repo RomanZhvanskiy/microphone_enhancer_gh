{
 "cells": [
  {
   "cell_type": "markdown",
   "id": "8f9b45c3",
   "metadata": {
    "id": "8f9b45c3"
   },
   "source": [
    "# a project to enhance the apparent quality of microphone in real time"
   ]
  },
  {
   "cell_type": "markdown",
   "id": "57ab275d",
   "metadata": {
    "id": "57ab275d"
   },
   "source": [
    "## loading the useful libraries"
   ]
  },
  {
   "cell_type": "code",
   "execution_count": null,
   "id": "WMCT8TTKmR7C",
   "metadata": {
    "colab": {
     "base_uri": "https://localhost:8080/"
    },
    "executionInfo": {
     "elapsed": 3,
     "status": "ok",
     "timestamp": 1707243417244,
     "user": {
      "displayName": "",
      "userId": ""
     },
     "user_tz": 0
    },
    "id": "WMCT8TTKmR7C",
    "outputId": "484a5f7f-128d-49c4-b778-1a437e880690"
   },
   "outputs": [],
   "source": [
    "#this notebook is able to run both locally and in google colab\n",
    "#if running in google colab, some additional actions need to be performed\n",
    "#The variable IN_COLAB tells the code whether to perform those actions\n",
    "import sys\n",
    "IN_COLAB = 'google.colab' in sys.modules\n",
    "IN_COLAB"
   ]
  },
  {
   "cell_type": "code",
   "execution_count": null,
   "id": "310f3c67",
   "metadata": {
    "executionInfo": {
     "elapsed": 3,
     "status": "ok",
     "timestamp": 1707243418044,
     "user": {
      "displayName": "",
      "userId": ""
     },
     "user_tz": 0
    },
    "id": "310f3c67"
   },
   "outputs": [],
   "source": [
    "import numpy as np # linear algebra\n",
    "import pandas as pd # data processing, CSV file I/O (e.g. pd.read_csv)\n",
    "import os"
   ]
  },
  {
   "cell_type": "code",
   "execution_count": null,
   "id": "01b0e4f8",
   "metadata": {
    "executionInfo": {
     "elapsed": 2976,
     "status": "ok",
     "timestamp": 1707243424597,
     "user": {
      "displayName": "",
      "userId": ""
     },
     "user_tz": 0
    },
    "id": "01b0e4f8"
   },
   "outputs": [],
   "source": [
    "import librosa\n",
    "import torchaudio\n",
    "from IPython.display import Audio #play back the signal (original waveform)\n",
    "import  IPython\n",
    "\n",
    "\n"
   ]
  },
  {
   "cell_type": "code",
   "execution_count": null,
   "id": "5eVJmx_1jWBQ",
   "metadata": {
    "colab": {
     "base_uri": "https://localhost:8080/"
    },
    "executionInfo": {
     "elapsed": 4577,
     "status": "ok",
     "timestamp": 1707243429172,
     "user": {
      "displayName": "",
      "userId": ""
     },
     "user_tz": 0
    },
    "id": "5eVJmx_1jWBQ",
    "outputId": "37dc3552-5161-4d8a-9675-fab8270ec5bb"
   },
   "outputs": [],
   "source": [
    "#install audio_preprocessing from github - this is necessary if running in Google Colab, otherwise not necessary\n",
    "if (IN_COLAB):\n",
    "   #!git clone https://github.com/RomanZhvanskiy/microphone_enhancer_gh.git\n",
    "   !git -C \"microphone_enhancer_gh\" pull || git clone https://github.com/RomanZhvanskiy/microphone_enhancer_gh.git \"microphone_enhancer_gh\"\n"
   ]
  },
  {
   "cell_type": "code",
   "execution_count": null,
   "id": "Ll-_x8c465u0",
   "metadata": {
    "colab": {
     "base_uri": "https://localhost:8080/"
    },
    "executionInfo": {
     "elapsed": 7,
     "status": "ok",
     "timestamp": 1707243429172,
     "user": {
      "displayName": "",
      "userId": ""
     },
     "user_tz": 0
    },
    "id": "Ll-_x8c465u0",
    "outputId": "fdc83167-0483-4210-fc9e-38c7667fd90f"
   },
   "outputs": [],
   "source": [
    "if (IN_COLAB):  # it is also necessary to change directory in Google Colab to load audio_preprocessing\n",
    "  %cd /content/microphone_enhancer_gh/"
   ]
  },
  {
   "cell_type": "code",
   "execution_count": null,
   "id": "_hrKTv2n3dfl",
   "metadata": {
    "colab": {
     "base_uri": "https://localhost:8080/"
    },
    "executionInfo": {
     "elapsed": 1793,
     "status": "ok",
     "timestamp": 1707243430961,
     "user": {
      "displayName": "",
      "userId": ""
     },
     "user_tz": 0
    },
    "id": "_hrKTv2n3dfl",
    "outputId": "483c0e4c-e685-4e40-a6bd-055327c4ad8f"
   },
   "outputs": [],
   "source": [
    "if (IN_COLAB): # switch to the appropriate branch\n",
    "  !git checkout better_models_and_gridsearch\n",
    "  !git pull"
   ]
  },
  {
   "cell_type": "code",
   "execution_count": null,
   "id": "77991dea",
   "metadata": {
    "executionInfo": {
     "elapsed": 740,
     "status": "ok",
     "timestamp": 1707243431697,
     "user": {
      "displayName": "",
      "userId": ""
     },
     "user_tz": 0
    },
    "id": "77991dea"
   },
   "outputs": [],
   "source": [
    "%load_ext autoreload\n",
    "%autoreload 2\n",
    "from audio_preprocessing import preprocessing as pp\n"
   ]
  },
  {
   "cell_type": "code",
   "execution_count": null,
   "id": "204fa7a4",
   "metadata": {
    "colab": {
     "base_uri": "https://localhost:8080/"
    },
    "executionInfo": {
     "elapsed": 8,
     "status": "ok",
     "timestamp": 1707243431697,
     "user": {
      "displayName": "",
      "userId": ""
     },
     "user_tz": 0
    },
    "id": "204fa7a4",
    "outputId": "b2834045-d9a0-4f12-eadf-2f3e2dcb59bb"
   },
   "outputs": [],
   "source": [
    "!pwd"
   ]
  },
  {
   "cell_type": "code",
   "execution_count": null,
   "id": "q9JvwZATpIG-",
   "metadata": {
    "colab": {
     "base_uri": "https://localhost:8080/"
    },
    "executionInfo": {
     "elapsed": 52784,
     "status": "ok",
     "timestamp": 1707243484477,
     "user": {
      "displayName": "",
      "userId": ""
     },
     "user_tz": 0
    },
    "id": "q9JvwZATpIG-",
    "outputId": "8246e2a5-7473-4367-fbf0-949751b9eb41"
   },
   "outputs": [],
   "source": [
    "if (IN_COLAB):  # the training data is loaded in the google drive for the purpose of being used in google colab\n",
    "  from google.colab import drive\n",
    "  drive.mount('/content/gdrive')\n",
    "\n",
    "\n"
   ]
  },
  {
   "cell_type": "code",
   "execution_count": null,
   "id": "dGtDRUs-pk9M",
   "metadata": {
    "colab": {
     "base_uri": "https://localhost:8080/"
    },
    "executionInfo": {
     "elapsed": 556,
     "status": "ok",
     "timestamp": 1707243485030,
     "user": {
      "displayName": "",
      "userId": ""
     },
     "user_tz": 0
    },
    "id": "dGtDRUs-pk9M",
    "outputId": "36011b1a-2698-441a-95f3-5930babe64f7"
   },
   "outputs": [],
   "source": [
    "#!ls -la /content/gdrive/MyDrive/'Colab Notebooks'/data_audio/VCTK-Corpus/wav48\n"
   ]
  },
  {
   "cell_type": "code",
   "execution_count": null,
   "id": "7OzkGMmS5Y1V",
   "metadata": {
    "colab": {
     "base_uri": "https://localhost:8080/"
    },
    "executionInfo": {
     "elapsed": 406,
     "status": "ok",
     "timestamp": 1707243492548,
     "user": {
      "displayName": "",
      "userId": ""
     },
     "user_tz": 0
    },
    "id": "7OzkGMmS5Y1V",
    "outputId": "c7be86e5-db32-4b6b-fc2d-5807ddfba3e8"
   },
   "outputs": [],
   "source": [
    "#os.listdir(\"/content/gdrive/MyDrive/Colab Notebooks/data_audio/VCTK-Corpus/wav48\")"
   ]
  },
  {
   "cell_type": "markdown",
   "id": "097bc218",
   "metadata": {
    "id": "097bc218"
   },
   "source": [
    "## initial exploration"
   ]
  },
  {
   "cell_type": "markdown",
   "id": "46ed29ce",
   "metadata": {
    "id": "46ed29ce"
   },
   "source": [
    "### getting the data"
   ]
  },
  {
   "cell_type": "code",
   "execution_count": null,
   "id": "45f524b0",
   "metadata": {
    "executionInfo": {
     "elapsed": 286,
     "status": "ok",
     "timestamp": 1707231446604,
     "user": {
      "displayName": "",
      "userId": ""
     },
     "user_tz": 0
    },
    "id": "45f524b0"
   },
   "outputs": [],
   "source": [
    "#sample Audio and text exploration"
   ]
  },
  {
   "cell_type": "code",
   "execution_count": null,
   "id": "58bcaae8",
   "metadata": {
    "colab": {
     "base_uri": "https://localhost:8080/"
    },
    "executionInfo": {
     "elapsed": 1821,
     "status": "ok",
     "timestamp": 1707232625593,
     "user": {
      "displayName": "",
      "userId": ""
     },
     "user_tz": 0
    },
    "id": "58bcaae8",
    "outputId": "2f333668-dad0-4122-b7e9-a101feed9911"
   },
   "outputs": [],
   "source": [
    "#get_speech()\n",
    "x, sr  = pp.get_speech(working_in_google_colab = IN_COLAB)\n",
    "print('sampling rate', sr, 'hz')\n",
    "print('number of samples', len(x))\n",
    "print('duration', round(len(x)/sr, 2), 'seconds')"
   ]
  },
  {
   "cell_type": "code",
   "execution_count": null,
   "id": "02d45899",
   "metadata": {
    "colab": {
     "base_uri": "https://localhost:8080/"
    },
    "executionInfo": {
     "elapsed": 4,
     "status": "ok",
     "timestamp": 1707232398882,
     "user": {
      "displayName": "",
      "userId": ""
     },
     "user_tz": 0
    },
    "id": "02d45899",
    "outputId": "b8055b8f-59e3-4105-b02f-81237e1660db"
   },
   "outputs": [],
   "source": [
    "x.shape"
   ]
  },
  {
   "cell_type": "markdown",
   "id": "287f4efe",
   "metadata": {
    "id": "287f4efe"
   },
   "source": [
    "### Convert waveform to MEL spectrogram"
   ]
  },
  {
   "cell_type": "code",
   "execution_count": null,
   "id": "4352ef74",
   "metadata": {
    "executionInfo": {
     "elapsed": 2945,
     "status": "ok",
     "timestamp": 1707231633386,
     "user": {
      "displayName": "",
      "userId": ""
     },
     "user_tz": 0
    },
    "id": "4352ef74"
   },
   "outputs": [],
   "source": [
    "spectrogram = pp.waveform_2_spectrogram (x,sr)\n",
    "\n"
   ]
  },
  {
   "cell_type": "code",
   "execution_count": null,
   "id": "85d0ce88",
   "metadata": {
    "id": "85d0ce88"
   },
   "outputs": [],
   "source": [
    "spectrogram.shape"
   ]
  },
  {
   "cell_type": "code",
   "execution_count": null,
   "id": "89d7a54a",
   "metadata": {
    "id": "89d7a54a"
   },
   "outputs": [],
   "source": [
    "type(spectrogram)"
   ]
  },
  {
   "cell_type": "code",
   "execution_count": null,
   "id": "8f98fff1",
   "metadata": {
    "id": "8f98fff1"
   },
   "outputs": [],
   "source": [
    "spectrogram"
   ]
  },
  {
   "cell_type": "markdown",
   "id": "2fcb6371",
   "metadata": {
    "id": "2fcb6371"
   },
   "source": [
    "### Degrade quality"
   ]
  },
  {
   "cell_type": "code",
   "execution_count": null,
   "id": "70258419",
   "metadata": {
    "id": "70258419"
   },
   "outputs": [],
   "source": [
    "spectrogram = pp.waveform_2_spectrogram (x,sr)\n",
    "print (f\"spectrogram.shape = {spectrogram.shape}\")\n",
    "#remove frequencies (our simulated bad microphone cannot capture low and high f)\n",
    "degraded_x = pp.mel_spectrogram_remove_frequency(\n",
    "            spectrogram,\n",
    "            sr,\n",
    "            remove_above=3000.0,\n",
    "            remove_below=100.0,\n",
    "            debug=0)\n",
    "\n",
    "print (f\"degraded_x.shape = {degraded_x.shape}\")\n",
    "\n",
    "#remove quiet sounds  (our simulated bad microphone cannot capture quiet sounds)\n",
    "degraded_x = pp.mel_spectrogram_remove_quiet_sounds (\n",
    "            degraded_x,\n",
    "            sr,\n",
    "            remove_below=0.5,\n",
    "            debug=0)\n",
    "\n",
    "#add noise (our simulated bad microphone also captures noize)\n",
    "degraded_x = pp.mel_spectrogram_add_noise(degraded_x,\n",
    "            sr,\n",
    "            relative_noise_level=0.1,\n",
    "            add_above=100.0,\n",
    "            add_below=3000.0,\n",
    "            debug=0)\n",
    "\n",
    "reconstructed_degraded_x = pp.spectrogram_2_waveform (degraded_x, sr=sr)\n",
    "\n",
    "print (f\"reconstructed_degraded_x.shape = {reconstructed_degraded_x.shape}\")\n"
   ]
  },
  {
   "cell_type": "code",
   "execution_count": null,
   "id": "fa927307",
   "metadata": {
    "executionInfo": {
     "elapsed": 1091,
     "status": "ok",
     "timestamp": 1707243580277,
     "user": {
      "displayName": "",
      "userId": ""
     },
     "user_tz": 0
    },
    "id": "fa927307"
   },
   "outputs": [],
   "source": [
    "def degrade_quaity(spectrogram, sr, upper_limit=3000.0, lower_limit=100.0, insensitive_level = 0.5,relative_noise_level=0.1, debug=0):\n",
    "    degraded_spectrogram = pp.mel_spectrogram_remove_frequency(\n",
    "            spectrogram,\n",
    "            sr,\n",
    "            remove_above=upper_limit,\n",
    "            remove_below=lower_limit,\n",
    "            debug=debug)\n",
    "\n",
    "\n",
    "    #remove quiet sounds  (our simulated bad microphone cannot capture quiet sounds)\n",
    "    degraded_spectrogram = pp.mel_spectrogram_remove_quiet_sounds (\n",
    "            degraded_spectrogram,\n",
    "            sr,\n",
    "            remove_below=insensitive_level,\n",
    "            debug=debug)\n",
    "\n",
    "    #add noise (our simulated bad microphone also captures noize)\n",
    "    degraded_spectrogram = pp.mel_spectrogram_add_noise(degraded_spectrogram,\n",
    "            sr,\n",
    "            relative_noise_level=relative_noise_level,\n",
    "            add_above=lower_limit,\n",
    "            add_below=upper_limit,\n",
    "            debug=debug)\n",
    "    return degraded_spectrogram"
   ]
  },
  {
   "cell_type": "markdown",
   "id": "4924ba38",
   "metadata": {
    "id": "4924ba38"
   },
   "source": [
    "### Convert MEL spectrogram to waveform"
   ]
  },
  {
   "cell_type": "code",
   "execution_count": null,
   "id": "25ce8f61",
   "metadata": {
    "id": "25ce8f61"
   },
   "outputs": [],
   "source": [
    "reconstructed_x = pp.spectrogram_2_waveform (spectrogram, sr=sr)"
   ]
  },
  {
   "cell_type": "markdown",
   "id": "b1c7044c",
   "metadata": {
    "id": "b1c7044c"
   },
   "source": [
    "### compare quality"
   ]
  },
  {
   "cell_type": "code",
   "execution_count": null,
   "id": "ec56f400",
   "metadata": {
    "id": "ec56f400"
   },
   "outputs": [],
   "source": [
    "print (\"original audio\")\n",
    "IPython.display.display(IPython.display.Audio(data=x,  rate=sr))\n",
    "\n",
    "print (\"audio which has been converted to spectrogram and back\")\n",
    "IPython.display.display(IPython.display.Audio(data=reconstructed_x,  rate=sr))\n",
    "\n",
    "print (\"audio which has been converted to spectrogram, degraded and converted back\")\n",
    "IPython.display.display(IPython.display.Audio(data=reconstructed_degraded_x,  rate=sr))\n"
   ]
  },
  {
   "cell_type": "markdown",
   "id": "ea38a911",
   "metadata": {
    "id": "ea38a911"
   },
   "source": [
    "### plot spectrograms"
   ]
  },
  {
   "cell_type": "code",
   "execution_count": null,
   "id": "a1e2cf30",
   "metadata": {
    "id": "a1e2cf30"
   },
   "outputs": [],
   "source": [
    "pp.plot_mel_spectrogram(spectrogram,sr)"
   ]
  },
  {
   "cell_type": "code",
   "execution_count": null,
   "id": "cba81e74",
   "metadata": {
    "id": "cba81e74",
    "scrolled": true
   },
   "outputs": [],
   "source": [
    "pp.plot_mel_spectrogram(degraded_x,sr)"
   ]
  },
  {
   "cell_type": "code",
   "execution_count": null,
   "id": "45ccd464",
   "metadata": {
    "id": "45ccd464"
   },
   "outputs": [],
   "source": [
    "#https://datasciencedojo.com/blog/python-libraries-for-generative-ai/#\n",
    "#https://huggingface.co/docs/diffusers/tutorials/basic_training\n",
    "#library for distortions\n",
    "#https://github.com/iver56/audiomentations?tab=readme-ov-file"
   ]
  },
  {
   "cell_type": "markdown",
   "id": "d3115e16",
   "metadata": {
    "id": "d3115e16"
   },
   "source": [
    "## training a simple model"
   ]
  },
  {
   "cell_type": "markdown",
   "id": "c3e69b31",
   "metadata": {
    "id": "c3e69b31"
   },
   "source": [
    "### data preparation"
   ]
  },
  {
   "cell_type": "code",
   "execution_count": null,
   "id": "fbd9f162",
   "metadata": {
    "colab": {
     "base_uri": "https://localhost:8080/"
    },
    "executionInfo": {
     "elapsed": 23735,
     "status": "ok",
     "timestamp": 1707243529615,
     "user": {
      "displayName": "",
      "userId": ""
     },
     "user_tz": 0
    },
    "id": "fbd9f162",
    "outputId": "36f77917-0599-48da-aaa6-f84cc610a5f9",
    "scrolled": true
   },
   "outputs": [],
   "source": [
    "large_data, sr = pp.get_all_speech_as_one_mel(num_spectrograms=100, num_speaker =0, debug = 1,working_in_google_colab = IN_COLAB)"
   ]
  },
  {
   "cell_type": "code",
   "execution_count": null,
   "id": "ba34c1a2",
   "metadata": {
    "colab": {
     "base_uri": "https://localhost:8080/"
    },
    "executionInfo": {
     "elapsed": 1054,
     "status": "ok",
     "timestamp": 1707243536943,
     "user": {
      "displayName": "",
      "userId": ""
     },
     "user_tz": 0
    },
    "id": "ba34c1a2",
    "outputId": "b43563de-3fab-4cae-a5f6-304cf3294c5e"
   },
   "outputs": [],
   "source": [
    "train_sg, test_sg = pp.split_spectrogram_in_train_and_test(large_data,0.2, debug=1)"
   ]
  },
  {
   "cell_type": "code",
   "execution_count": null,
   "id": "299758aa",
   "metadata": {
    "executionInfo": {
     "elapsed": 542,
     "status": "ok",
     "timestamp": 1707243585590,
     "user": {
      "displayName": "",
      "userId": ""
     },
     "user_tz": 0
    },
    "id": "299758aa"
   },
   "outputs": [],
   "source": [
    "#degrade quality of both train and test\n",
    "degraded_train_sg =degrade_quaity(train_sg, sr )\n",
    "degraded_test_sg =degrade_quaity(test_sg, sr )\n",
    "\n",
    "\n"
   ]
  },
  {
   "cell_type": "code",
   "execution_count": null,
   "id": "jDejF5zKpWvB",
   "metadata": {
    "executionInfo": {
     "elapsed": 62779,
     "status": "ok",
     "timestamp": 1707243690538,
     "user": {
      "displayName": "",
      "userId": ""
     },
     "user_tz": 0
    },
    "id": "jDejF5zKpWvB"
   },
   "outputs": [],
   "source": [
    "\n",
    "reconstructed_test = pp.spectrogram_2_waveform (test_sg, sr=sr)\n",
    "reconstructed_degraded_test = pp.spectrogram_2_waveform (degraded_test_sg, sr=sr)"
   ]
  },
  {
   "cell_type": "code",
   "execution_count": null,
   "id": "h-qGcgiwpj6t",
   "metadata": {
    "id": "h-qGcgiwpj6t"
   },
   "outputs": [],
   "source": [
    "reconstructed_train = pp.spectrogram_2_waveform (train_sg, sr=sr)\n",
    "reconstructed_degraded_train = pp.spectrogram_2_waveform (degraded_train_sg, sr=sr)"
   ]
  },
  {
   "cell_type": "code",
   "execution_count": null,
   "id": "Jb3OmiJzBYCI",
   "metadata": {
    "executionInfo": {
     "elapsed": 4192,
     "status": "ok",
     "timestamp": 1707233482342,
     "user": {
      "displayName": "",
      "userId": ""
     },
     "user_tz": 0
    },
    "id": "Jb3OmiJzBYCI"
   },
   "outputs": [],
   "source": [
    "#the above can take a long time on large datasets, so I'll save the results to file\n",
    "np.savetxt(fname=\"/content/gdrive/MyDrive/Colab Notebooks/data_audio/degraded_train_sg.sg\", X=degraded_train_sg)\n",
    "np.savetxt(fname=\"/content/gdrive/MyDrive/Colab Notebooks/data_audio/degraded_test_sg.sg\", X=degraded_test_sg)\n",
    "np.savetxt(fname=\"/content/gdrive/MyDrive/Colab Notebooks/data_audio/degraded_train_sg.sg\", X=degraded_train_sg)\n",
    "np.savetxt(fname=\"/content/gdrive/MyDrive/Colab Notebooks/data_audio/degraded_test_sg.sg\", X=degraded_test_sg)"
   ]
  },
  {
   "cell_type": "code",
   "execution_count": null,
   "id": "764c735b",
   "metadata": {
    "colab": {
     "base_uri": "https://localhost:8080/",
     "height": 669
    },
    "executionInfo": {
     "elapsed": 44948,
     "status": "ok",
     "timestamp": 1707244168908,
     "user": {
      "displayName": "",
      "userId": ""
     },
     "user_tz": 0
    },
    "id": "764c735b",
    "outputId": "346989a6-66bc-4f29-d462-558787d7bc50"
   },
   "outputs": [],
   "source": [
    "\n",
    "print (\"audio reconstructed_test\")\n",
    "IPython.display.display(IPython.display.Audio(reconstructed_test,  rate=sr))\n",
    "pp.plot_mel_spectrogram(test_sg,sr, figsize=(2,2))\n",
    "\n",
    "print (\"audio degraded_test_sg\")\n",
    "IPython.display.display(IPython.display.Audio(reconstructed_degraded_test,  rate=sr))\n",
    "pp.plot_mel_spectrogram(degraded_train_sg,sr, figsize=(2,2))\n"
   ]
  },
  {
   "cell_type": "code",
   "execution_count": null,
   "id": "d73a0adb",
   "metadata": {
    "id": "d73a0adb"
   },
   "outputs": [],
   "source": [
    "\n"
   ]
  },
  {
   "cell_type": "markdown",
   "id": "6a4cf40e",
   "metadata": {
    "id": "6a4cf40e"
   },
   "source": [
    "### model - simple autoencoder"
   ]
  },
  {
   "cell_type": "markdown",
   "id": "c7d15162",
   "metadata": {
    "id": "c7d15162"
   },
   "source": [
    "let us start with the simplest possible model - restoring 1 column of MEL spectrogram (256 entries)\n",
    "this loses out on the previous time snapshots, but should be simple to train\n",
    "Accordingly, instead of Conv2d, we will have Conv1d"
   ]
  },
  {
   "cell_type": "code",
   "execution_count": null,
   "id": "459b8178",
   "metadata": {
    "executionInfo": {
     "elapsed": 4686,
     "status": "ok",
     "timestamp": 1707244178364,
     "user": {
      "displayName": "",
      "userId": ""
     },
     "user_tz": 0
    },
    "id": "459b8178"
   },
   "outputs": [],
   "source": [
    "from tensorflow.keras import models\n",
    "from tensorflow.keras import layers\n",
    "from tensorflow.keras.layers import Dense\n",
    "#from tensorflow.keras.layers import Conv2D, Conv1D, MaxPooling2D, Flatten, Dense\n",
    "#from tensorflow.keras.layers import MaxPooling1D\n",
    "\n"
   ]
  },
  {
   "cell_type": "code",
   "execution_count": null,
   "id": "e180ab8a",
   "metadata": {
    "executionInfo": {
     "elapsed": 17,
     "status": "ok",
     "timestamp": 1707244178375,
     "user": {
      "displayName": "",
      "userId": ""
     },
     "user_tz": 0
    },
    "id": "e180ab8a"
   },
   "outputs": [],
   "source": [
    "\n",
    "def build_encoder():\n",
    "    '''returns an encoder model, of output_shape equals to latent_dimension'''\n",
    "    encoder = models.Sequential()\n",
    "    encoder.add(layers.Dense(100, input_dim=256, activation='tanh'))\n",
    "\n",
    "    return encoder\n"
   ]
  },
  {
   "cell_type": "code",
   "execution_count": null,
   "id": "762e08fc",
   "metadata": {
    "colab": {
     "base_uri": "https://localhost:8080/"
    },
    "executionInfo": {
     "elapsed": 426,
     "status": "ok",
     "timestamp": 1707244182012,
     "user": {
      "displayName": "",
      "userId": ""
     },
     "user_tz": 0
    },
    "id": "762e08fc",
    "outputId": "8c3528db-9454-4098-ea5e-542e4b5fce74"
   },
   "outputs": [],
   "source": [
    "encoder = build_encoder()\n",
    "encoder.summary()"
   ]
  },
  {
   "cell_type": "code",
   "execution_count": null,
   "id": "97c8a899",
   "metadata": {
    "executionInfo": {
     "elapsed": 2,
     "status": "ok",
     "timestamp": 1707244181037,
     "user": {
      "displayName": "",
      "userId": ""
     },
     "user_tz": 0
    },
    "id": "97c8a899"
   },
   "outputs": [],
   "source": [
    "\n",
    "def build_decoder():\n",
    "    decoder = models.Sequential()\n",
    "\n",
    "    decoder.add(layers.Dense(256, input_dim=100, activation='relu'))\n",
    "\n",
    "    return decoder\n"
   ]
  },
  {
   "cell_type": "code",
   "execution_count": null,
   "id": "2e3f6ab8",
   "metadata": {
    "colab": {
     "base_uri": "https://localhost:8080/"
    },
    "executionInfo": {
     "elapsed": 5,
     "status": "ok",
     "timestamp": 1707244184828,
     "user": {
      "displayName": "",
      "userId": ""
     },
     "user_tz": 0
    },
    "id": "2e3f6ab8",
    "outputId": "8bd2255d-1472-4d1c-a60b-7b924b871cd2"
   },
   "outputs": [],
   "source": [
    "decoder = build_decoder()\n",
    "decoder.summary()"
   ]
  },
  {
   "cell_type": "code",
   "execution_count": null,
   "id": "62aab9e3",
   "metadata": {
    "executionInfo": {
     "elapsed": 1,
     "status": "ok",
     "timestamp": 1707244188261,
     "user": {
      "displayName": "",
      "userId": ""
     },
     "user_tz": 0
    },
    "id": "62aab9e3"
   },
   "outputs": [],
   "source": [
    "from tensorflow.keras.optimizers import Adam\n",
    "\n",
    "autoencoder = models.Sequential([encoder, decoder])\n",
    "#autoencoder.compile(loss=\"mse\", optimizer=Adam(learning_rate=0.1))\n",
    "optimizer = Adam()\n",
    "\n",
    "autoencoder.compile(loss='mse',\n",
    "                  optimizer=optimizer,\n",
    "                  metrics=['mse'])\n"
   ]
  },
  {
   "cell_type": "code",
   "execution_count": null,
   "id": "d738b0cb",
   "metadata": {
    "colab": {
     "base_uri": "https://localhost:8080/"
    },
    "executionInfo": {
     "elapsed": 1052,
     "status": "ok",
     "timestamp": 1707244192494,
     "user": {
      "displayName": "",
      "userId": ""
     },
     "user_tz": 0
    },
    "id": "d738b0cb",
    "outputId": "ab60a6aa-d9bc-430c-f38e-1d9cadc034cb",
    "scrolled": true
   },
   "outputs": [],
   "source": [
    "autoencoder.summary()"
   ]
  },
  {
   "cell_type": "code",
   "execution_count": null,
   "id": "332d7269",
   "metadata": {
    "executionInfo": {
     "elapsed": 2,
     "status": "ok",
     "timestamp": 1707244192494,
     "user": {
      "displayName": "",
      "userId": ""
     },
     "user_tz": 0
    },
    "id": "332d7269"
   },
   "outputs": [],
   "source": [
    "train_sg_t =  np.transpose(train_sg)"
   ]
  },
  {
   "cell_type": "code",
   "execution_count": null,
   "id": "bb158a5a",
   "metadata": {
    "executionInfo": {
     "elapsed": 415,
     "status": "ok",
     "timestamp": 1707244200158,
     "user": {
      "displayName": "",
      "userId": ""
     },
     "user_tz": 0
    },
    "id": "bb158a5a"
   },
   "outputs": [],
   "source": [
    "degraded_train_sg_t =  np.transpose(degraded_train_sg)"
   ]
  },
  {
   "cell_type": "markdown",
   "id": "8d80b5b0",
   "metadata": {
    "id": "8d80b5b0"
   },
   "source": [
    "### train the model"
   ]
  },
  {
   "cell_type": "code",
   "execution_count": null,
   "id": "bb4e2f28",
   "metadata": {
    "executionInfo": {
     "elapsed": 413,
     "status": "ok",
     "timestamp": 1707249871644,
     "user": {
      "displayName": "",
      "userId": ""
     },
     "user_tz": 0
    },
    "id": "bb4e2f28"
   },
   "outputs": [],
   "source": [
    "import tensorflow as tf\n",
    "def reinitialize(model):\n",
    "    for l in model.layers:\n",
    "        if isinstance(l, tf.keras.Model):\n",
    "            reinitialize(l)\n",
    "            continue\n",
    "        if hasattr(l,\"kernel_initializer\"):\n",
    "            l.kernel.assign(l.kernel_initializer(tf.shape(l.kernel)))\n",
    "        if hasattr(l,\"bias_initializer\"):\n",
    "            l.bias.assign(l.bias_initializer(tf.shape(l.bias)))\n",
    "        if hasattr(l,\"recurrent_initializer\"):\n",
    "            l.recurrent_kernel.assign(l.recurrent_initializer(tf.shape(l.recurrent_kernel)))"
   ]
  },
  {
   "cell_type": "code",
   "execution_count": null,
   "id": "3be4ec0a",
   "metadata": {
    "id": "3be4ec0a"
   },
   "outputs": [],
   "source": [
    "reinitialize(autoencoder)"
   ]
  },
  {
   "cell_type": "code",
   "execution_count": null,
   "id": "57165de2",
   "metadata": {
    "colab": {
     "base_uri": "https://localhost:8080/"
    },
    "executionInfo": {
     "elapsed": 128574,
     "status": "ok",
     "timestamp": 1707244462571,
     "user": {
      "displayName": "",
      "userId": ""
     },
     "user_tz": 0
    },
    "id": "57165de2",
    "outputId": "af4d30c2-e86c-4232-8e83-f0c61894501d",
    "scrolled": true
   },
   "outputs": [],
   "source": [
    "\n",
    "\n",
    "history = autoencoder.fit(train_sg_t, train_sg_t ,\n",
    "                           validation_split = 0.2,\n",
    "                           epochs=100,\n",
    "                           batch_size=32,\n",
    "                           workers=3,\n",
    "                           use_multiprocessing=True,\n",
    "                           verbose=1)"
   ]
  },
  {
   "cell_type": "code",
   "execution_count": null,
   "id": "0d5b08db",
   "metadata": {
    "colab": {
     "base_uri": "https://localhost:8080/",
     "height": 452
    },
    "executionInfo": {
     "elapsed": 1112,
     "status": "ok",
     "timestamp": 1707244468841,
     "user": {
      "displayName": "",
      "userId": ""
     },
     "user_tz": 0
    },
    "id": "0d5b08db",
    "outputId": "68d58ca0-7e25-46d7-c780-354aab1e1893"
   },
   "outputs": [],
   "source": [
    "hist_df = pd.DataFrame(history.history)\n",
    "\n",
    "headers = list(hist_df.columns.values)\n",
    "\n",
    "\n",
    "plot = hist_df[[headers[0], headers[2]]].plot(title=f\"{headers[0]}, {headers[2]}\", logy=True)\n",
    "#plot = hist_df[[headers[1], headers[3]]].plot(title=f\"{headers[1]}, {headers[3]}\", logy=False)"
   ]
  },
  {
   "cell_type": "markdown",
   "id": "62d417d2",
   "metadata": {
    "id": "62d417d2"
   },
   "source": [
    "### save the model"
   ]
  },
  {
   "cell_type": "code",
   "execution_count": null,
   "id": "a9ef431a",
   "metadata": {
    "id": "a9ef431a"
   },
   "outputs": [],
   "source": [
    "models.save_model(autoencoder, 'autoencoder_001a')\n"
   ]
  },
  {
   "cell_type": "markdown",
   "id": "a50964a7",
   "metadata": {
    "id": "a50964a7"
   },
   "source": [
    "### how does the model sound?"
   ]
  },
  {
   "cell_type": "code",
   "execution_count": null,
   "id": "b324b210",
   "metadata": {
    "executionInfo": {
     "elapsed": 550,
     "status": "ok",
     "timestamp": 1707244551775,
     "user": {
      "displayName": "",
      "userId": ""
     },
     "user_tz": 0
    },
    "id": "b324b210"
   },
   "outputs": [],
   "source": []
  },
  {
   "cell_type": "code",
   "execution_count": null,
   "id": "ae714e9f",
   "metadata": {
    "colab": {
     "base_uri": "https://localhost:8080/"
    },
    "executionInfo": {
     "elapsed": 1718,
     "status": "ok",
     "timestamp": 1707244554229,
     "user": {
      "displayName": "",
      "userId": ""
     },
     "user_tz": 0
    },
    "id": "ae714e9f",
    "outputId": "5ce8682e-064d-40a4-b75e-c02155a00482"
   },
   "outputs": [],
   "source": [
    "restored_test_sg_t = autoencoder.predict(np.transpose(degraded_test_sg))"
   ]
  },
  {
   "cell_type": "code",
   "execution_count": null,
   "id": "7c9fabff",
   "metadata": {
    "executionInfo": {
     "elapsed": 27631,
     "status": "ok",
     "timestamp": 1707244581858,
     "user": {
      "displayName": "",
      "userId": ""
     },
     "user_tz": 0
    },
    "id": "7c9fabff"
   },
   "outputs": [],
   "source": [
    "reconstructed_restored_test = pp.spectrogram_2_waveform (np.transpose(restored_test_sg_t), sr=sr)"
   ]
  },
  {
   "cell_type": "code",
   "execution_count": null,
   "id": "4fa62d9e",
   "metadata": {
    "colab": {
     "base_uri": "https://localhost:8080/",
     "height": 669
    },
    "executionInfo": {
     "elapsed": 34147,
     "status": "ok",
     "timestamp": 1707244616003,
     "user": {
      "displayName": "",
      "userId": ""
     },
     "user_tz": 0
    },
    "id": "4fa62d9e",
    "outputId": "c1c9e66a-31f3-4861-f4b6-b199e4d30e3e"
   },
   "outputs": [],
   "source": [
    "print (\"reconstructed_test\")\n",
    "IPython.display.display(IPython.display.Audio(data=reconstructed_test,  rate=sr))\n",
    "pp.plot_mel_spectrogram(test_sg,sr, figsize=(2,2))\n",
    "\n",
    "\n",
    "print (\"reconstructed_restored_degraded_test\")\n",
    "IPython.display.display(IPython.display.Audio(data=reconstructed_restored_test,  rate=sr))\n",
    "pp.plot_mel_spectrogram(np.transpose(restored_test_sg_t),sr, figsize=(2,2))"
   ]
  },
  {
   "cell_type": "markdown",
   "id": "SHVJpHrBt19r",
   "metadata": {
    "id": "SHVJpHrBt19r"
   },
   "source": [
    "# even simpler (10, 256) model training\n"
   ]
  },
  {
   "cell_type": "code",
   "execution_count": null,
   "id": "pcn5NlVMthFY",
   "metadata": {
    "executionInfo": {
     "elapsed": 404,
     "status": "ok",
     "timestamp": 1707245064463,
     "user": {
      "displayName": "",
      "userId": ""
     },
     "user_tz": 0
    },
    "id": "pcn5NlVMthFY"
   },
   "outputs": [],
   "source": [
    "### simper model\n",
    "\n",
    "def build_the_simplest_model_possible():\n",
    "    simplest_model = models.Sequential()\n",
    "    simplest_model.add(layers.Dense(10, input_dim=256, activation='relu'))\n",
    "    simplest_model.add(layers.Dense(256, input_dim=100, activation='relu'))\n",
    "    return simplest_model\n",
    "simplest_model = build_the_simplest_model_possible()\n",
    "optimizer = Adam()\n",
    "\n",
    "simplest_model.compile(loss='mse',\n",
    "                  optimizer=optimizer,\n",
    "                  metrics=['mse'])\n"
   ]
  },
  {
   "cell_type": "code",
   "execution_count": null,
   "id": "594_USRpxcKd",
   "metadata": {
    "executionInfo": {
     "elapsed": 1051,
     "status": "ok",
     "timestamp": 1707249400338,
     "user": {
      "displayName": "",
      "userId": ""
     },
     "user_tz": 0
    },
    "id": "594_USRpxcKd"
   },
   "outputs": [],
   "source": [
    "# Cache to RAM to speed up the training. This requires arrays to be converted to Datasets\n",
    "from tensorflow import data\n",
    "#from tensorflow.data.Dataset import cache\n",
    "\n",
    "train_dataset = data.Dataset.from_tensor_slices((np.transpose(train_sg), np.transpose(train_sg))).batch(10000)\n",
    "validation_dataset = data.Dataset.from_tensor_slices((np.transpose(test_sg), np.transpose(test_sg))).batch(3000)\n",
    "\n",
    "\n",
    "AUTOTUNE = data.experimental.AUTOTUNE\n",
    "train_dataset = train_dataset.cache().prefetch(buffer_size=AUTOTUNE)\n",
    "validation_dataset = validation_dataset.cache().prefetch(buffer_size=AUTOTUNE)\n",
    "\n",
    "#val_ds = val_ds.cache().prefetch(buffer_size=AUTOTUNE)"
   ]
  },
  {
   "cell_type": "code",
   "execution_count": null,
   "id": "KJZ62DtG_6l0",
   "metadata": {
    "colab": {
     "base_uri": "https://localhost:8080/"
    },
    "executionInfo": {
     "elapsed": 4,
     "status": "ok",
     "timestamp": 1707249536078,
     "user": {
      "displayName": "",
      "userId": ""
     },
     "user_tz": 0
    },
    "id": "KJZ62DtG_6l0",
    "outputId": "83fa3eba-9099-4491-a0e6-447854c7d044"
   },
   "outputs": [],
   "source": [
    "print (f\"train_sg.shape={train_sg.shape}\")\n",
    "print (f\"test_sg.shape={test_sg.shape}\")b"
   ]
  },
  {
   "cell_type": "code",
   "execution_count": null,
   "id": "VrSIh42XTlL4",
   "metadata": {
    "colab": {
     "base_uri": "https://localhost:8080/"
    },
    "executionInfo": {
     "elapsed": 103695,
     "status": "ok",
     "timestamp": 1707256047741,
     "user": {
      "displayName": "",
      "userId": ""
     },
     "user_tz": 0
    },
    "id": "VrSIh42XTlL4",
    "outputId": "1f09f197-8e02-421b-f1d0-babd5ef5ed51"
   },
   "outputs": [],
   "source": [
    "from tensorflow.keras import callbacks\n",
    "from keras.callbacks import EarlyStopping\n",
    "from keras.callbacks import BackupAndRestore\n",
    "\n",
    "\n",
    "es = EarlyStopping(\n",
    "    monitor=\"val_loss\",\n",
    "    patience=10,\n",
    "    restore_best_weights=True,\n",
    "    verbose=0\n",
    ")\n",
    "\n",
    "br = BackupAndRestore(\n",
    "    backup_dir=\"training_backup\",\n",
    "    save_freq=\"epoch\",\n",
    "    delete_checkpoint=True\n",
    ")\n",
    "reinitialize(simplest_model)\n",
    "history = simplest_model.fit( x=train_dataset,\n",
    "                           batch_size=4,\n",
    "                           validation_data=validation_dataset,\n",
    "                           epochs=1000,\n",
    "                           verbose=1,\n",
    "                           workers=24,\n",
    "                           callbacks=[es,br],\n",
    "                           use_multiprocessing=True)"
   ]
  },
  {
   "cell_type": "code",
   "execution_count": null,
   "id": "V1QECPXtU784",
   "metadata": {
    "colab": {
     "base_uri": "https://localhost:8080/",
     "height": 452
    },
    "executionInfo": {
     "elapsed": 1351,
     "status": "ok",
     "timestamp": 1707256057110,
     "user": {
      "displayName": "",
      "userId": ""
     },
     "user_tz": 0
    },
    "id": "V1QECPXtU784",
    "outputId": "72637f20-c5f4-4492-8327-acf5cc336094"
   },
   "outputs": [],
   "source": [
    "hist_df = pd.DataFrame(history.history)\n",
    "headers = list(hist_df.columns.values)\n",
    "plot = hist_df[[headers[0], headers[2]]].plot(title=f\"{headers[0]}, {headers[2]}\", logy=True)"
   ]
  },
  {
   "cell_type": "code",
   "execution_count": null,
   "id": "7S4CxHlYVUO-",
   "metadata": {
    "colab": {
     "base_uri": "https://localhost:8080/",
     "height": 687
    },
    "executionInfo": {
     "elapsed": 34710,
     "status": "ok",
     "timestamp": 1707256104689,
     "user": {
      "displayName": "",
      "userId": ""
     },
     "user_tz": 0
    },
    "id": "7S4CxHlYVUO-",
    "outputId": "0ac9f234-bbae-4a65-e62a-5c5c91144756"
   },
   "outputs": [],
   "source": [
    "models.save_model(simplest_model, 'autoencoder_baseline_10-256-trained-on-good')\n",
    "\n",
    "restored_test_sg_t = simplest_model.predict(np.transpose(degraded_test_sg))\n",
    "\n",
    "print (\"reconstructed_test\")\n",
    "IPython.display.display(IPython.display.Audio(data=reconstructed_test,  rate=sr))\n",
    "pp.plot_mel_spectrogram(test_sg,sr, figsize=(2,2))\n",
    "\n",
    "\n",
    "print (\"reconstructed_restored_degraded_test\")\n",
    "IPython.display.display(IPython.display.Audio(data=reconstructed_restored_test,  rate=sr))\n",
    "pp.plot_mel_spectrogram(np.transpose(restored_test_sg_t),sr, figsize=(2,2))"
   ]
  },
  {
   "cell_type": "markdown",
   "id": "qOHf1uBRV2Q3",
   "metadata": {
    "id": "qOHf1uBRV2Q3"
   },
   "source": [
    "# how about training the simpler model on degraded rather than perfect audio?"
   ]
  },
  {
   "cell_type": "code",
   "execution_count": null,
   "id": "t378XfSUW2Zo",
   "metadata": {
    "executionInfo": {
     "elapsed": 408,
     "status": "ok",
     "timestamp": 1707255532577,
     "user": {
      "displayName": "",
      "userId": ""
     },
     "user_tz": 0
    },
    "id": "t378XfSUW2Zo"
   },
   "outputs": [],
   "source": [
    "# Cache to RAM to speed up the training. This requires arrays to be converted to Datasets\n",
    "from tensorflow import data\n",
    "#from tensorflow.data.Dataset import cache\n",
    "\n",
    "train_dataset = data.Dataset.from_tensor_slices((np.transpose(degraded_train_sg), np.transpose(train_sg))).batch(10000)\n",
    "validation_dataset = data.Dataset.from_tensor_slices((np.transpose(degraded_test_sg), np.transpose(test_sg))).batch(3000)\n",
    "\n",
    "\n",
    "AUTOTUNE = data.experimental.AUTOTUNE\n",
    "train_dataset = train_dataset.cache().prefetch(buffer_size=AUTOTUNE)\n",
    "validation_dataset = validation_dataset.cache().prefetch(buffer_size=AUTOTUNE)\n",
    "\n",
    "#val_ds = val_ds.cache().prefetch(buffer_size=AUTOTUNE)"
   ]
  },
  {
   "cell_type": "code",
   "execution_count": null,
   "id": "PePLUVbJXFGx",
   "metadata": {
    "colab": {
     "base_uri": "https://localhost:8080/"
    },
    "executionInfo": {
     "elapsed": 39090,
     "status": "ok",
     "timestamp": 1707255603471,
     "user": {
      "displayName": "",
      "userId": ""
     },
     "user_tz": 0
    },
    "id": "PePLUVbJXFGx",
    "outputId": "5ecbb7eb-adea-4b72-e06c-b447a7d16adb"
   },
   "outputs": [],
   "source": [
    "es = EarlyStopping(\n",
    "    monitor=\"val_loss\",\n",
    "    patience=10,\n",
    "    restore_best_weights=True,\n",
    "    verbose=0\n",
    ")\n",
    "\n",
    "br = BackupAndRestore(\n",
    "    backup_dir=\"training_backup\",\n",
    "    save_freq=\"epoch\",\n",
    "    delete_checkpoint=True\n",
    ")\n",
    "\n",
    "history = simplest_model.fit( x=train_dataset,\n",
    "                           batch_size=4,\n",
    "                           validation_data=validation_dataset,\n",
    "                           epochs=1000,\n",
    "                           verbose=1,\n",
    "                           workers=24,\n",
    "                           callbacks=[es,br],\n",
    "                           use_multiprocessing=True)"
   ]
  },
  {
   "cell_type": "code",
   "execution_count": null,
   "id": "An8tjbLMXMH5",
   "metadata": {
    "colab": {
     "base_uri": "https://localhost:8080/",
     "height": 452
    },
    "executionInfo": {
     "elapsed": 9,
     "status": "ok",
     "timestamp": 1707255632901,
     "user": {
      "displayName": "",
      "userId": ""
     },
     "user_tz": 0
    },
    "id": "An8tjbLMXMH5",
    "outputId": "775087fc-8080-4ed7-f1b6-e0d3a09e83e6"
   },
   "outputs": [],
   "source": [
    "hist_df = pd.DataFrame(history.history)\n",
    "headers = list(hist_df.columns.values)\n",
    "plot = hist_df[[headers[0], headers[2]]].plot(title=f\"{headers[0]}, {headers[2]}\", logy=True)"
   ]
  },
  {
   "cell_type": "code",
   "execution_count": null,
   "id": "6u5nefQNXPSV",
   "metadata": {
    "colab": {
     "base_uri": "https://localhost:8080/",
     "height": 687
    },
    "executionInfo": {
     "elapsed": 34537,
     "status": "ok",
     "timestamp": 1707255781380,
     "user": {
      "displayName": "",
      "userId": ""
     },
     "user_tz": 0
    },
    "id": "6u5nefQNXPSV",
    "outputId": "0c3c9ffe-778b-434e-cf71-9ea02d67c5e9"
   },
   "outputs": [],
   "source": [
    "models.save_model(simplest_model, 'autoencoder_baseline_10-256-trained-on_degraded')\n",
    "\n",
    "restored_test_sg_t = simplest_model.predict(np.transpose(degraded_test_sg))\n",
    "\n",
    "print (\"reconstructed_test\")\n",
    "IPython.display.display(IPython.display.Audio(data=reconstructed_test,  rate=sr))\n",
    "pp.plot_mel_spectrogram(test_sg,sr, figsize=(2,2))\n",
    "\n",
    "\n",
    "print (\"reconstructed_restored_degraded_test\")\n",
    "IPython.display.display(IPython.display.Audio(data=reconstructed_restored_test,  rate=sr))\n",
    "pp.plot_mel_spectrogram(np.transpose(restored_test_sg_t),sr, figsize=(2,2))"
   ]
  },
  {
   "cell_type": "markdown",
   "id": "hGoWlrKuZJ61",
   "metadata": {
    "id": "hGoWlrKuZJ61"
   },
   "source": [
    "# try convolutional autoencoder\n"
   ]
  },
  {
   "cell_type": "code",
   "execution_count": null,
   "id": "XeN7QWtgZUIm",
   "metadata": {
    "executionInfo": {
     "elapsed": 606,
     "status": "ok",
     "timestamp": 1707257043112,
     "user": {
      "displayName": "",
      "userId": ""
     },
     "user_tz": 0
    },
    "id": "XeN7QWtgZUIm"
   },
   "outputs": [],
   "source": [
    "def build_convolutional_autoencoder():\n",
    "    conv_ac = models.Sequential()\n",
    "    conv_ac.add(layers.Reshape([256,1], input_shape=[256]))\n",
    "    conv_ac.add(layers.Conv1D(16, kernel_size=6, padding=\"same\", input_dim=[256,1], activation='selu'))\n",
    "    conv_ac.add(layers.MaxPool1D(pool_size=4))\n",
    "    conv_ac.add(layers.Conv1D(32, kernel_size=6, padding=\"same\", activation='selu'))\n",
    "    conv_ac.add(layers.MaxPool1D(pool_size=4))\n",
    "    conv_ac.add(layers.Conv1D(64, kernel_size=6, padding=\"same\", activation='selu'))\n",
    "    conv_ac.add(layers.MaxPool1D(pool_size=4))\n",
    "\n",
    "    conv_ac.add(layers.Conv1DTranspose(32, kernel_size=6, strides=4, padding=\"same\", activation='selu'))\n",
    "    conv_ac.add(layers.Conv1DTranspose(16, kernel_size=6, strides=4, padding=\"same\", activation='selu'))\n",
    "    conv_ac.add(layers.Conv1DTranspose(1, kernel_size=6, strides=4, padding=\"same\", activation='relu'))\n",
    "\n",
    "\n",
    "    return conv_ac\n",
    "conv_ac = build_convolutional_autoencoder()\n",
    "optimizer = Adam()\n",
    "\n",
    "conv_ac.compile(loss='mse',\n",
    "                  optimizer=optimizer,\n",
    "                  metrics=['mse'])"
   ]
  },
  {
   "cell_type": "code",
   "execution_count": null,
   "id": "tGbeJJhGd4mC",
   "metadata": {
    "colab": {
     "base_uri": "https://localhost:8080/"
    },
    "executionInfo": {
     "elapsed": 34,
     "status": "ok",
     "timestamp": 1707257351051,
     "user": {
      "displayName": "",
      "userId": ""
     },
     "user_tz": 0
    },
    "id": "tGbeJJhGd4mC",
    "outputId": "9695b240-7857-4bed-caba-135b02fc06aa"
   },
   "outputs": [],
   "source": [
    "conv_ac.summary()"
   ]
  },
  {
   "cell_type": "code",
   "execution_count": null,
   "id": "dQO7f0OQc-Zw",
   "metadata": {
    "executionInfo": {
     "elapsed": 1049,
     "status": "ok",
     "timestamp": 1707257145300,
     "user": {
      "displayName": "",
      "userId": ""
     },
     "user_tz": 0
    },
    "id": "dQO7f0OQc-Zw"
   },
   "outputs": [],
   "source": [
    "# Cache to RAM to speed up the training. This requires arrays to be converted to Datasets\n",
    "from tensorflow import data\n",
    "#from tensorflow.data.Dataset import cache\n",
    "\n",
    "train_dataset = data.Dataset.from_tensor_slices((np.transpose(degraded_train_sg), np.transpose(train_sg))).batch(10000)\n",
    "validation_dataset = data.Dataset.from_tensor_slices((np.transpose(degraded_test_sg), np.transpose(test_sg))).batch(3000)\n",
    "\n",
    "\n",
    "AUTOTUNE = data.experimental.AUTOTUNE\n",
    "train_dataset = train_dataset.cache().prefetch(buffer_size=AUTOTUNE)\n",
    "validation_dataset = validation_dataset.cache().prefetch(buffer_size=AUTOTUNE)\n",
    "\n",
    "#val_ds = val_ds.cache().prefetch(buffer_size=AUTOTUNE)"
   ]
  },
  {
   "cell_type": "code",
   "execution_count": null,
   "id": "VCVLs408dLHh",
   "metadata": {
    "colab": {
     "base_uri": "https://localhost:8080/"
    },
    "executionInfo": {
     "elapsed": 23272,
     "status": "ok",
     "timestamp": 1707257260026,
     "user": {
      "displayName": "",
      "userId": ""
     },
     "user_tz": 0
    },
    "id": "VCVLs408dLHh",
    "outputId": "e55b4cb7-ba44-43f2-f373-f43f5adbd119"
   },
   "outputs": [],
   "source": [
    "es = EarlyStopping(\n",
    "    monitor=\"val_loss\",\n",
    "    patience=10,\n",
    "    restore_best_weights=True,\n",
    "    verbose=0\n",
    ")\n",
    "\n",
    "br = BackupAndRestore(\n",
    "    backup_dir=\"training_backup\",\n",
    "    save_freq=\"epoch\",\n",
    "    delete_checkpoint=True\n",
    ")\n",
    "\n",
    "history = conv_ac.fit( x=train_dataset,\n",
    "                           batch_size=4,\n",
    "                           validation_data=validation_dataset,\n",
    "                           epochs=100,\n",
    "                           verbose=1,\n",
    "                           workers=24,\n",
    "                           callbacks=[es,br],\n",
    "                           use_multiprocessing=True)"
   ]
  },
  {
   "cell_type": "code",
   "execution_count": null,
   "id": "O_sbcVJidn0T",
   "metadata": {
    "colab": {
     "base_uri": "https://localhost:8080/",
     "height": 452
    },
    "executionInfo": {
     "elapsed": 946,
     "status": "ok",
     "timestamp": 1707257285310,
     "user": {
      "displayName": "",
      "userId": ""
     },
     "user_tz": 0
    },
    "id": "O_sbcVJidn0T",
    "outputId": "4e06332b-8591-4473-d519-c4e797daa4cd"
   },
   "outputs": [],
   "source": [
    "hist_df = pd.DataFrame(history.history)\n",
    "headers = list(hist_df.columns.values)\n",
    "plot = hist_df[[headers[0], headers[2]]].plot(title=f\"{headers[0]}, {headers[2]}\", logy=True)"
   ]
  },
  {
   "cell_type": "code",
   "execution_count": null,
   "id": "7IW6I9bve9_R",
   "metadata": {
    "colab": {
     "base_uri": "https://localhost:8080/"
    },
    "executionInfo": {
     "elapsed": 16,
     "status": "ok",
     "timestamp": 1707257626707,
     "user": {
      "displayName": "",
      "userId": ""
     },
     "user_tz": 0
    },
    "id": "7IW6I9bve9_R",
    "outputId": "a2901576-08ae-46fb-9bbc-c673fc26139e"
   },
   "outputs": [],
   "source": [
    "restored_test_sg_t = conv_ac.predict(np.transpose(degraded_test_sg))\n"
   ]
  },
  {
   "cell_type": "code",
   "execution_count": null,
   "id": "t_YTAcbuf_MP",
   "metadata": {
    "colab": {
     "base_uri": "https://localhost:8080/"
    },
    "executionInfo": {
     "elapsed": 8,
     "status": "ok",
     "timestamp": 1707257907449,
     "user": {
      "displayName": "",
      "userId": ""
     },
     "user_tz": 0
    },
    "id": "t_YTAcbuf_MP",
    "outputId": "28fd710e-f582-4e91-c9c6-509e11bb794d"
   },
   "outputs": [],
   "source": [
    "restored_test_sg_t.shape"
   ]
  },
  {
   "cell_type": "code",
   "execution_count": null,
   "id": "Hv2nbgfqgEf9",
   "metadata": {
    "colab": {
     "base_uri": "https://localhost:8080/"
    },
    "executionInfo": {
     "elapsed": 919,
     "status": "ok",
     "timestamp": 1707257920960,
     "user": {
      "displayName": "",
      "userId": ""
     },
     "user_tz": 0
    },
    "id": "Hv2nbgfqgEf9",
    "outputId": "3575a1f3-fb9e-462e-b92d-efe5f2627c38"
   },
   "outputs": [],
   "source": [
    "reconstructed_test.shape"
   ]
  },
  {
   "cell_type": "code",
   "execution_count": null,
   "id": "EhLsVRVWdxwb",
   "metadata": {
    "colab": {
     "base_uri": "https://localhost:8080/",
     "height": 687
    },
    "executionInfo": {
     "elapsed": 23873,
     "status": "ok",
     "timestamp": 1707257861622,
     "user": {
      "displayName": "",
      "userId": ""
     },
     "user_tz": 0
    },
    "id": "EhLsVRVWdxwb",
    "outputId": "bdca4df1-c8e7-4e83-904f-0d0f1afed74e"
   },
   "outputs": [],
   "source": [
    "models.save_model(conv_ac, 'conv_16-32-64-32-16-1')\n",
    "\n",
    "restored_test_sg_t = conv_ac.predict(np.transpose(degraded_test_sg))[:, :, 0]\n",
    "\n",
    "print (\"reconstructed_test\")\n",
    "IPython.display.display(IPython.display.Audio(data=reconstructed_test,  rate=sr))\n",
    "pp.plot_mel_spectrogram(test_sg,sr, figsize=(2,2))\n",
    "\n",
    "\n",
    "print (\"reconstructed_restored_degraded_test\")\n",
    "IPython.display.display(IPython.display.Audio(data=np.transpose(restored_test_sg_t),  rate=sr))\n",
    "pp.plot_mel_spectrogram(np.transpose(restored_test_sg_t),sr, figsize=(2,2))"
   ]
  },
  {
   "cell_type": "markdown",
   "id": "BCb-rK4QTl1Z",
   "metadata": {
    "id": "BCb-rK4QTl1Z"
   },
   "source": [
    "# Simple autoencoder (100, 256 dense) model training\n"
   ]
  },
  {
   "cell_type": "code",
   "execution_count": null,
   "id": "G8fxwY_wBfVs",
   "metadata": {
    "colab": {
     "base_uri": "https://localhost:8080/"
    },
    "executionInfo": {
     "elapsed": 474,
     "status": "ok",
     "timestamp": 1707250046402,
     "user": {
      "displayName": "",
      "userId": ""
     },
     "user_tz": 0
    },
    "id": "G8fxwY_wBfVs",
    "outputId": "19e490c6-0ce7-4aea-fcb0-8cfc1efe6e7b"
   },
   "outputs": [],
   "source": [
    "reinitialize(autoencoder)"
   ]
  },
  {
   "cell_type": "code",
   "execution_count": null,
   "id": "EgrQPJ07vFQj",
   "metadata": {
    "colab": {
     "base_uri": "https://localhost:8080/"
    },
    "executionInfo": {
     "elapsed": 925982,
     "status": "ok",
     "timestamp": 1707250975682,
     "user": {
      "displayName": "",
      "userId": ""
     },
     "user_tz": 0
    },
    "id": "EgrQPJ07vFQj",
    "outputId": "d108d846-ee1b-4d65-db5f-2bc9d7a5cc18"
   },
   "outputs": [],
   "source": [
    "history = autoencoder.fit( x=train_dataset,\n",
    "                           batch_size=4,\n",
    "                           validation_data=validation_dataset,\n",
    "                           epochs=10000,\n",
    "                           verbose=1,\n",
    "                           workers=24,\n",
    "                           use_multiprocessing=True)"
   ]
  },
  {
   "cell_type": "code",
   "execution_count": null,
   "id": "iir7fkMH_E0U",
   "metadata": {
    "colab": {
     "base_uri": "https://localhost:8080/",
     "height": 452
    },
    "executionInfo": {
     "elapsed": 1568,
     "status": "ok",
     "timestamp": 1707250984739,
     "user": {
      "displayName": "",
      "userId": ""
     },
     "user_tz": 0
    },
    "id": "iir7fkMH_E0U",
    "outputId": "7458a418-5d65-4a3a-88bb-20b02f4aeff1"
   },
   "outputs": [],
   "source": [
    "hist_df = pd.DataFrame(history.history)\n",
    "headers = list(hist_df.columns.values)\n",
    "plot = hist_df[[headers[0], headers[2]]].plot(title=f\"{headers[0]}, {headers[2]}\", logy=True)"
   ]
  },
  {
   "cell_type": "code",
   "execution_count": null,
   "id": "v6sKMIbQF2aW",
   "metadata": {
    "executionInfo": {
     "elapsed": 1591,
     "status": "ok",
     "timestamp": 1707251214585,
     "user": {
      "displayName": "",
      "userId": ""
     },
     "user_tz": 0
    },
    "id": "v6sKMIbQF2aW"
   },
   "outputs": [],
   "source": [
    "models.save_model(autoencoder, 'autoencoder_baseline_10000')"
   ]
  },
  {
   "cell_type": "code",
   "execution_count": null,
   "id": "3jF-cBaVGiQR",
   "metadata": {
    "colab": {
     "base_uri": "https://localhost:8080/"
    },
    "executionInfo": {
     "elapsed": 1728,
     "status": "ok",
     "timestamp": 1707251293597,
     "user": {
      "displayName": "",
      "userId": ""
     },
     "user_tz": 0
    },
    "id": "3jF-cBaVGiQR",
    "outputId": "a96ce6f6-2e3b-4353-a5df-9292fc10233d"
   },
   "outputs": [],
   "source": [
    "restored_test_sg_t = autoencoder.predict(np.transpose(degraded_test_sg))"
   ]
  },
  {
   "cell_type": "code",
   "execution_count": null,
   "id": "iXksa59zFxyj",
   "metadata": {
    "colab": {
     "base_uri": "https://localhost:8080/",
     "height": 669
    },
    "executionInfo": {
     "elapsed": 33268,
     "status": "ok",
     "timestamp": 1707251331146,
     "user": {
      "displayName": "",
      "userId": ""
     },
     "user_tz": 0
    },
    "id": "iXksa59zFxyj",
    "outputId": "adf01fdf-1e98-4d67-9868-e6c42df70fd1"
   },
   "outputs": [],
   "source": [
    "print (\"reconstructed_test\")\n",
    "IPython.display.display(IPython.display.Audio(data=reconstructed_test,  rate=sr))\n",
    "pp.plot_mel_spectrogram(test_sg,sr, figsize=(2,2))\n",
    "\n",
    "\n",
    "print (\"reconstructed_restored_degraded_test\")\n",
    "IPython.display.display(IPython.display.Audio(data=reconstructed_restored_test,  rate=sr))\n",
    "pp.plot_mel_spectrogram(np.transpose(restored_test_sg_t),sr, figsize=(2,2))"
   ]
  },
  {
   "cell_type": "code",
   "execution_count": null,
   "id": "rECHHhiNHe6j",
   "metadata": {
    "executionInfo": {
     "elapsed": 4,
     "status": "ok",
     "timestamp": 1707254385440,
     "user": {
      "displayName": "",
      "userId": ""
     },
     "user_tz": 0
    },
    "id": "rECHHhiNHe6j"
   },
   "outputs": [],
   "source": [
    "from tensorflow.keras import callbacks\n",
    "from keras.callbacks import EarlyStopping\n",
    "from keras.callbacks import BackupAndRestore\n",
    "\n"
   ]
  },
  {
   "cell_type": "code",
   "execution_count": null,
   "id": "NOy8B4rmTbt8",
   "metadata": {
    "id": "NOy8B4rmTbt8"
   },
   "outputs": [],
   "source": []
  },
  {
   "cell_type": "markdown",
   "id": "2c241373",
   "metadata": {
    "id": "2c241373"
   },
   "source": [
    "## same  model with reg"
   ]
  },
  {
   "cell_type": "markdown",
   "id": "7683ef0a",
   "metadata": {
    "id": "7683ef0a"
   },
   "source": [
    "## same  model with dropout"
   ]
  },
  {
   "cell_type": "markdown",
   "id": "7391d16a",
   "metadata": {
    "id": "7391d16a"
   },
   "source": [
    "## same  model with dropout & reg"
   ]
  },
  {
   "cell_type": "code",
   "execution_count": null,
   "id": "474a897a",
   "metadata": {
    "id": "474a897a"
   },
   "outputs": [],
   "source": [
    "models.save_model(autoencoder_do_reg, 'autoencoder_002')"
   ]
  },
  {
   "cell_type": "code",
   "execution_count": null,
   "id": "15396a80",
   "metadata": {
    "id": "15396a80"
   },
   "outputs": [],
   "source": [
    "models.save_model(autoencoder_do_reg_selu, 'autoencoder_003')"
   ]
  },
  {
   "cell_type": "code",
   "execution_count": null,
   "id": "52b03663",
   "metadata": {
    "id": "52b03663"
   },
   "outputs": [],
   "source": []
  }
 ],
 "metadata": {
  "accelerator": "GPU",
  "colab": {
   "gpuType": "T4",
   "provenance": [
    {
     "file_id": "https://github.com/RomanZhvanskiy/microphone_enhancer_gh/blob/better_models_and_gridsearch/.ipynb_checkpoints/Speech_enhancement_6-checkpoint.ipynb",
     "timestamp": 1707309327642
    }
   ],
   "toc_visible": true
  },
  "kernelspec": {
   "display_name": "Python 3 (ipykernel)",
   "language": "python",
   "name": "python3"
  },
  "language_info": {
   "codemirror_mode": {
    "name": "ipython",
    "version": 3
   },
   "file_extension": ".py",
   "mimetype": "text/x-python",
   "name": "python",
   "nbconvert_exporter": "python",
   "pygments_lexer": "ipython3",
   "version": "3.10.6"
  },
  "toc": {
   "base_numbering": 1,
   "nav_menu": {},
   "number_sections": true,
   "sideBar": true,
   "skip_h1_title": false,
   "title_cell": "Table of Contents",
   "title_sidebar": "Contents",
   "toc_cell": false,
   "toc_position": {},
   "toc_section_display": true,
   "toc_window_display": false
  }
 },
 "nbformat": 4,
 "nbformat_minor": 5
}
