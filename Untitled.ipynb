{
 "cells": [
  {
   "cell_type": "code",
   "execution_count": 10,
   "id": "3213e0d0-b22d-4c59-86af-ac175ea775ea",
   "metadata": {},
   "outputs": [],
   "source": [
    "from setuptools import find_packages\n",
    "from setuptools import setup\n"
   ]
  },
  {
   "cell_type": "code",
   "execution_count": 11,
   "id": "42762894-e567-4237-98b7-63155d529d19",
   "metadata": {},
   "outputs": [],
   "source": [
    "packages = find_packages( \"/home/romanz/code/RomanZhvanskiy/microphone_enhancer_gh\" )"
   ]
  },
  {
   "cell_type": "code",
   "execution_count": 12,
   "id": "5ddae4da-caa4-467a-9895-14610addd338",
   "metadata": {},
   "outputs": [
    {
     "data": {
      "text/plain": [
       "[]"
      ]
     },
     "execution_count": 12,
     "metadata": {},
     "output_type": "execute_result"
    }
   ],
   "source": [
    "packages"
   ]
  },
  {
   "cell_type": "code",
   "execution_count": null,
   "id": "efe2fd6b-625d-4805-b52b-7f9d9e90190e",
   "metadata": {},
   "outputs": [],
   "source": []
  }
 ],
 "metadata": {
  "kernelspec": {
   "display_name": "Python 3 (ipykernel)",
   "language": "python",
   "name": "python3"
  },
  "language_info": {
   "codemirror_mode": {
    "name": "ipython",
    "version": 3
   },
   "file_extension": ".py",
   "mimetype": "text/x-python",
   "name": "python",
   "nbconvert_exporter": "python",
   "pygments_lexer": "ipython3",
   "version": "3.10.6"
  }
 },
 "nbformat": 4,
 "nbformat_minor": 5
}
